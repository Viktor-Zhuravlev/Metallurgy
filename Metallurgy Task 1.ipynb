{
 "cells": [
  {
   "cell_type": "markdown",
   "metadata": {},
   "source": [
    "# Metallurgy. Task 1. Металлургия. Задание 1."
   ]
  },
  {
   "cell_type": "markdown",
   "metadata": {},
   "source": [
    "An employee of the product quality assessment service noticed that the number of defective steel sheets in the batch for steel grade `A` is greater than for steel grade `B`. He also drew attention to the fact that with an average rolling speed of more than 4 m/s, the number of defective sheets is greater. In accordance with these observations, it is proposed to reduce the rolling speed and introduce additional quality control measures for `A` grade steel.,\n",
    "    Check:\n",
    "\n",
    "    1) More than 3 defective sheets per batch come out significantly more often for steel grade `A` than for steel grade `B`.\n",
    "    2) At rolling speeds of more than 4 m/s, more than 3 defective steel sheets per batch come out significantly more often than at lower rolling speeds.\n",
    "\n",
    "The data required for analysis is contained in the \\\"Statistics for 2018\\\" file. The number of steel sheets in each batch is assumed to be the same."
   ]
  },
  {
   "cell_type": "markdown",
   "metadata": {},
   "source": [
    "Сотрудник службы оценки качества продукции заметил, что число бракованных листов стали в партии для стали марки `A` больше, чем для стали марки `B`. Также он обратил внимание, что при средней скорости прокатки более 4 м/с число бракованных листов больше. В соответствии с этими наблюдениями, предлагается снизить скорость прокатки и ввести дополнительные меры контроля качества для стали марки `A`.\n",
    "Обоснуйте, что:\n",
    "\n",
    "    1)\tБолее 3 бракованных листов на партию выходит значимо чаще для стали марки `А`, чем для стали марки `B`.\n",
    "    2)\tПри скоростях прокатки более 4 м/с свыше 3 бракованных листов стали на партию выходит значимо чаще, чем при меньших скоростях прокатки.\n",
    "\n",
    "Данные, необходимые для анализа, содержатся в файле «Статистика за 2018 год». Количество листов стали в каждой партии предполагается одинаковым."
   ]
  },
  {
   "cell_type": "markdown",
   "metadata": {},
   "source": [
    "## Libs import. Импорт библиотек"
   ]
  },
  {
   "cell_type": "code",
   "execution_count": 1,
   "metadata": {},
   "outputs": [],
   "source": [
    "import pandas as pd\n",
    "from IPython.display import display\n",
    "import matplotlib as mpl\n",
    "import matplotlib.pyplot as plt\n",
    "import seaborn as sns\n",
    "import math\n",
    "import numpy as np\n",
    "from scipy import stats as st\n",
    "from scipy.stats import kurtosis\n",
    "from scipy.stats import skew"
   ]
  },
  {
   "cell_type": "markdown",
   "metadata": {},
   "source": [
    "Cell scrolling is off. Вспомогательный модуль для устранения скроллинга ячеек"
   ]
  },
  {
   "cell_type": "code",
   "execution_count": 2,
   "metadata": {},
   "outputs": [
    {
     "data": {
      "application/javascript": [
       "IPython.OutputArea.prototype._should_scroll = function(lines) {\n",
       "    return false;\n",
       "}\n"
      ],
      "text/plain": [
       "<IPython.core.display.Javascript object>"
      ]
     },
     "metadata": {},
     "output_type": "display_data"
    }
   ],
   "source": [
    "%%javascript\n",
    "IPython.OutputArea.prototype._should_scroll = function(lines) {\n",
    "    return false;\n",
    "}"
   ]
  },
  {
   "cell_type": "markdown",
   "metadata": {},
   "source": [
    "## Data loading. EDA. Загрузка и изучение файла"
   ]
  },
  {
   "cell_type": "code",
   "execution_count": 3,
   "metadata": {
    "scrolled": true
   },
   "outputs": [
    {
     "data": {
      "text/html": [
       "<div>\n",
       "<style scoped>\n",
       "    .dataframe tbody tr th:only-of-type {\n",
       "        vertical-align: middle;\n",
       "    }\n",
       "\n",
       "    .dataframe tbody tr th {\n",
       "        vertical-align: top;\n",
       "    }\n",
       "\n",
       "    .dataframe thead th {\n",
       "        text-align: right;\n",
       "    }\n",
       "</style>\n",
       "<table border=\"1\" class=\"dataframe\">\n",
       "  <thead>\n",
       "    <tr style=\"text-align: right;\">\n",
       "      <th></th>\n",
       "      <th>Число бракованных листов</th>\n",
       "      <th>Скорость прокатки</th>\n",
       "      <th>Марка стали</th>\n",
       "    </tr>\n",
       "  </thead>\n",
       "  <tbody>\n",
       "    <tr>\n",
       "      <th>0</th>\n",
       "      <td>3</td>\n",
       "      <td>3.8</td>\n",
       "      <td>A</td>\n",
       "    </tr>\n",
       "    <tr>\n",
       "      <th>1</th>\n",
       "      <td>3</td>\n",
       "      <td>3.8</td>\n",
       "      <td>B</td>\n",
       "    </tr>\n",
       "    <tr>\n",
       "      <th>2</th>\n",
       "      <td>3</td>\n",
       "      <td>4.8</td>\n",
       "      <td>B</td>\n",
       "    </tr>\n",
       "    <tr>\n",
       "      <th>3</th>\n",
       "      <td>4</td>\n",
       "      <td>4.4</td>\n",
       "      <td>B</td>\n",
       "    </tr>\n",
       "    <tr>\n",
       "      <th>4</th>\n",
       "      <td>6</td>\n",
       "      <td>5.0</td>\n",
       "      <td>B</td>\n",
       "    </tr>\n",
       "  </tbody>\n",
       "</table>\n",
       "</div>"
      ],
      "text/plain": [
       "   Число бракованных листов  Скорость прокатки Марка стали\n",
       "0                         3                3.8           A\n",
       "1                         3                3.8           B\n",
       "2                         3                4.8           B\n",
       "3                         4                4.4           B\n",
       "4                         6                5.0           B"
      ]
     },
     "metadata": {},
     "output_type": "display_data"
    },
    {
     "name": "stdout",
     "output_type": "stream",
     "text": [
      "<class 'pandas.core.frame.DataFrame'>\n",
      "RangeIndex: 237 entries, 0 to 236\n",
      "Data columns (total 3 columns):\n",
      " #   Column                    Non-Null Count  Dtype  \n",
      "---  ------                    --------------  -----  \n",
      " 0   Число бракованных листов  237 non-null    int64  \n",
      " 1   Скорость прокатки         237 non-null    float64\n",
      " 2   Марка стали               237 non-null    object \n",
      "dtypes: float64(1), int64(1), object(1)\n",
      "memory usage: 5.7+ KB\n"
     ]
    },
    {
     "data": {
      "text/html": [
       "<div>\n",
       "<style scoped>\n",
       "    .dataframe tbody tr th:only-of-type {\n",
       "        vertical-align: middle;\n",
       "    }\n",
       "\n",
       "    .dataframe tbody tr th {\n",
       "        vertical-align: top;\n",
       "    }\n",
       "\n",
       "    .dataframe thead th {\n",
       "        text-align: right;\n",
       "    }\n",
       "</style>\n",
       "<table border=\"1\" class=\"dataframe\">\n",
       "  <thead>\n",
       "    <tr style=\"text-align: right;\">\n",
       "      <th></th>\n",
       "      <th>Число бракованных листов</th>\n",
       "      <th>Скорость прокатки</th>\n",
       "    </tr>\n",
       "  </thead>\n",
       "  <tbody>\n",
       "    <tr>\n",
       "      <th>count</th>\n",
       "      <td>237.000000</td>\n",
       "      <td>237.000000</td>\n",
       "    </tr>\n",
       "    <tr>\n",
       "      <th>mean</th>\n",
       "      <td>3.257384</td>\n",
       "      <td>4.509705</td>\n",
       "    </tr>\n",
       "    <tr>\n",
       "      <th>std</th>\n",
       "      <td>1.807821</td>\n",
       "      <td>0.696260</td>\n",
       "    </tr>\n",
       "    <tr>\n",
       "      <th>min</th>\n",
       "      <td>0.000000</td>\n",
       "      <td>2.500000</td>\n",
       "    </tr>\n",
       "    <tr>\n",
       "      <th>25%</th>\n",
       "      <td>2.000000</td>\n",
       "      <td>4.100000</td>\n",
       "    </tr>\n",
       "    <tr>\n",
       "      <th>50%</th>\n",
       "      <td>3.000000</td>\n",
       "      <td>4.600000</td>\n",
       "    </tr>\n",
       "    <tr>\n",
       "      <th>75%</th>\n",
       "      <td>4.000000</td>\n",
       "      <td>5.000000</td>\n",
       "    </tr>\n",
       "    <tr>\n",
       "      <th>max</th>\n",
       "      <td>8.000000</td>\n",
       "      <td>6.500000</td>\n",
       "    </tr>\n",
       "  </tbody>\n",
       "</table>\n",
       "</div>"
      ],
      "text/plain": [
       "       Число бракованных листов  Скорость прокатки\n",
       "count                237.000000         237.000000\n",
       "mean                   3.257384           4.509705\n",
       "std                    1.807821           0.696260\n",
       "min                    0.000000           2.500000\n",
       "25%                    2.000000           4.100000\n",
       "50%                    3.000000           4.600000\n",
       "75%                    4.000000           5.000000\n",
       "max                    8.000000           6.500000"
      ]
     },
     "execution_count": 3,
     "metadata": {},
     "output_type": "execute_result"
    }
   ],
   "source": [
    "data = pd.read_csv('F:/Metallurgy/Task1/Статистика за 2018 год.csv', encoding='cp1251')\n",
    "display(data.head())\n",
    "data.info()\n",
    "data.describe()"
   ]
  },
  {
   "cell_type": "markdown",
   "metadata": {},
   "source": [
    "Data were loaded. There are no missing values found. Coalumns: `Num of defected sheets`, `Rolling speed`, `Steel grade`."
   ]
  },
  {
   "cell_type": "markdown",
   "metadata": {},
   "source": [
    "Выполнена загрузка данных. Пропусков не обнаружено."
   ]
  },
  {
   "cell_type": "markdown",
   "metadata": {},
   "source": [
    "## Hypothesis testing according to point 1. Проверка гипотезы по пункту 1."
   ]
  },
  {
   "cell_type": "markdown",
   "metadata": {},
   "source": [
    "In this task, it is necessary to check that more than 3 defective sheets per batch come out significantly more often for steel grade 'A' than for steel grade 'B'.\n",
    "\n",
    "To test the null and alternative hypotheses $H_0: p_1 = p_2;H_1: p_1 <> p_2$, we use the test $\\chi^2$-statistics."
   ]
  },
  {
   "cell_type": "markdown",
   "metadata": {},
   "source": [
    "В данном задании необходимо обосновать, что более 3 бракованных листов на партию выходит значимо чаще для стали марки `А`, чем для стали марки `B`.\n",
    "\n",
    "Чтобы проверить нулевую и альтернативные гипотезы используем тестовую $\\chi^2$-статистику."
   ]
  },
  {
   "cell_type": "markdown",
   "metadata": {},
   "source": [
    "### Adding a column with the check `more than 3 defective sheets per batch`. Добавление столбца с проверкой `больше 3-х листов брака на партию`."
   ]
  },
  {
   "cell_type": "code",
   "execution_count": 4,
   "metadata": {},
   "outputs": [
    {
     "data": {
      "text/html": [
       "<div>\n",
       "<style scoped>\n",
       "    .dataframe tbody tr th:only-of-type {\n",
       "        vertical-align: middle;\n",
       "    }\n",
       "\n",
       "    .dataframe tbody tr th {\n",
       "        vertical-align: top;\n",
       "    }\n",
       "\n",
       "    .dataframe thead th {\n",
       "        text-align: right;\n",
       "    }\n",
       "</style>\n",
       "<table border=\"1\" class=\"dataframe\">\n",
       "  <thead>\n",
       "    <tr style=\"text-align: right;\">\n",
       "      <th></th>\n",
       "      <th>Число бракованных листов</th>\n",
       "      <th>Скорость прокатки</th>\n",
       "      <th>Марка стали</th>\n",
       "      <th>Deffect Брак</th>\n",
       "    </tr>\n",
       "  </thead>\n",
       "  <tbody>\n",
       "    <tr>\n",
       "      <th>0</th>\n",
       "      <td>3</td>\n",
       "      <td>3.8</td>\n",
       "      <td>A</td>\n",
       "      <td>False</td>\n",
       "    </tr>\n",
       "    <tr>\n",
       "      <th>1</th>\n",
       "      <td>3</td>\n",
       "      <td>3.8</td>\n",
       "      <td>B</td>\n",
       "      <td>False</td>\n",
       "    </tr>\n",
       "    <tr>\n",
       "      <th>2</th>\n",
       "      <td>3</td>\n",
       "      <td>4.8</td>\n",
       "      <td>B</td>\n",
       "      <td>False</td>\n",
       "    </tr>\n",
       "    <tr>\n",
       "      <th>3</th>\n",
       "      <td>4</td>\n",
       "      <td>4.4</td>\n",
       "      <td>B</td>\n",
       "      <td>True</td>\n",
       "    </tr>\n",
       "    <tr>\n",
       "      <th>4</th>\n",
       "      <td>6</td>\n",
       "      <td>5.0</td>\n",
       "      <td>B</td>\n",
       "      <td>True</td>\n",
       "    </tr>\n",
       "  </tbody>\n",
       "</table>\n",
       "</div>"
      ],
      "text/plain": [
       "   Число бракованных листов  Скорость прокатки Марка стали  Deffect Брак\n",
       "0                         3                3.8           A         False\n",
       "1                         3                3.8           B         False\n",
       "2                         3                4.8           B         False\n",
       "3                         4                4.4           B          True\n",
       "4                         6                5.0           B          True"
      ]
     },
     "metadata": {},
     "output_type": "display_data"
    }
   ],
   "source": [
    "data['Deffect Брак'] = data['Число бракованных листов'] > 3\n",
    "display(data.head())"
   ]
  },
  {
   "cell_type": "markdown",
   "metadata": {},
   "source": [
    "### Cross tabulation. Таблица перекрестной классификации"
   ]
  },
  {
   "cell_type": "code",
   "execution_count": 5,
   "metadata": {
    "scrolled": true
   },
   "outputs": [
    {
     "data": {
      "text/html": [
       "<div>\n",
       "<style scoped>\n",
       "    .dataframe tbody tr th:only-of-type {\n",
       "        vertical-align: middle;\n",
       "    }\n",
       "\n",
       "    .dataframe tbody tr th {\n",
       "        vertical-align: top;\n",
       "    }\n",
       "\n",
       "    .dataframe thead th {\n",
       "        text-align: right;\n",
       "    }\n",
       "</style>\n",
       "<table border=\"1\" class=\"dataframe\">\n",
       "  <thead>\n",
       "    <tr style=\"text-align: right;\">\n",
       "      <th>Марка стали</th>\n",
       "      <th>A</th>\n",
       "      <th>B</th>\n",
       "      <th>Total</th>\n",
       "    </tr>\n",
       "    <tr>\n",
       "      <th>Deffect Брак</th>\n",
       "      <th></th>\n",
       "      <th></th>\n",
       "      <th></th>\n",
       "    </tr>\n",
       "  </thead>\n",
       "  <tbody>\n",
       "    <tr>\n",
       "      <th>False</th>\n",
       "      <td>86</td>\n",
       "      <td>54</td>\n",
       "      <td>140</td>\n",
       "    </tr>\n",
       "    <tr>\n",
       "      <th>True</th>\n",
       "      <td>53</td>\n",
       "      <td>44</td>\n",
       "      <td>97</td>\n",
       "    </tr>\n",
       "    <tr>\n",
       "      <th>Total</th>\n",
       "      <td>139</td>\n",
       "      <td>98</td>\n",
       "      <td>237</td>\n",
       "    </tr>\n",
       "  </tbody>\n",
       "</table>\n",
       "</div>"
      ],
      "text/plain": [
       "Марка стали     A   B  Total\n",
       "Deffect Брак                \n",
       "False          86  54    140\n",
       "True           53  44     97\n",
       "Total         139  98    237"
      ]
     },
     "metadata": {},
     "output_type": "display_data"
    },
    {
     "name": "stdout",
     "output_type": "stream",
     "text": [
      "<class 'pandas.core.frame.DataFrame'>\n",
      "Index: 3 entries, False to Total\n",
      "Data columns (total 3 columns):\n",
      " #   Column  Non-Null Count  Dtype\n",
      "---  ------  --------------  -----\n",
      " 0   A       3 non-null      int64\n",
      " 1   B       3 non-null      int64\n",
      " 2   Total   3 non-null      int64\n",
      "dtypes: int64(3)\n",
      "memory usage: 96.0+ bytes\n"
     ]
    },
    {
     "data": {
      "image/png": "[encoded data removed]",
      "text/plain": [
       "<Figure size 432x288 with 1 Axes>"
      ]
     },
     "metadata": {
      "needs_background": "light"
     },
     "output_type": "display_data"
    }
   ],
   "source": [
    "df_ct_1 = pd.crosstab(data['Deffect Брак'], data['Марка стали'], margins = True, margins_name = 'Total')\n",
    "display(df_ct_1)\n",
    "df_ct_1.info()\n",
    "df_ct_1.drop('Total', axis = 0).T.plot(kind = 'bar', stacked = True)\n",
    "plt.title('Diagram of deffect/norm ratio. Диаграмма соотношения брака', fontsize = 15)\n",
    "plt.legend()\n",
    "plt.show()"
   ]
  },
  {
   "cell_type": "markdown",
   "metadata": {},
   "source": [
    "We calculated a cross tabulation with the distribution of normal (`False`) and defective (`True`) batches by steel grades. A graph is also plotted."
   ]
  },
  {
   "cell_type": "markdown",
   "metadata": {},
   "source": [
    "Вычислили таблицу перекрестной классификации с распределением нормальных (`False`) и бракованных (`True`) партий по маркам сталей. Так же построен график "
   ]
  },
  {
   "cell_type": "markdown",
   "metadata": {},
   "source": [
    "### Calculating $\\chi^2$ and testing the hypothesis of equality of fractions. Вычисление $\\chi^2$ и проверка гипотезы о равенстве долей"
   ]
  },
  {
   "cell_type": "code",
   "execution_count": 6,
   "metadata": {},
   "outputs": [],
   "source": [
    "def hyp_testing(df_ct, alpha):\n",
    "    value = np.array([df_ct.iloc[1][0:2].values,\n",
    "                      df_ct.iloc[0][0:2].values])\n",
    "    chi2, p_value, dof, _ = st.chi2_contingency(value, correction = False)\n",
    "    chi2_critical = st.chi2.ppf(1-alpha, dof)\n",
    "    print('chi2: ', chi2)\n",
    "    print('p_value: ', p_value)\n",
    "    print('dof: ', dof)\n",
    "    print()\n",
    "    print('alpha: ', alpha)\n",
    "    print('chi2_critical: ', chi2_critical)\n",
    "    print()\n",
    "    if chi2_critical < chi2:\n",
    "        print('The hypothesis H0 is rejected. Гипотеза Н0 отклоняется!')\n",
    "    else:\n",
    "        print('The hypothesis H0 is not rejected. Гипотеза Н0 не отклоняется!')"
   ]
  },
  {
   "cell_type": "code",
   "execution_count": 7,
   "metadata": {
    "scrolled": true
   },
   "outputs": [
    {
     "name": "stdout",
     "output_type": "stream",
     "text": [
      "chi2:  1.0891044742877811\n",
      "p_value:  0.2966697135957961\n",
      "dof:  1\n",
      "\n",
      "alpha:  0.05\n",
      "chi2_critical:  3.841458820694124\n",
      "\n",
      "The hypothesis H0 is not rejected. Гипотеза Н0 не отклоняется!\n"
     ]
    }
   ],
   "source": [
    "alpha_1 = 0.05\n",
    "hyp_testing(df_ct_1, alpha_1)"
   ]
  },
  {
   "cell_type": "markdown",
   "metadata": {},
   "source": [
    "Using a nonparametric $\\chi^2$ test, it was found that more than 3 defective sheets per batch do NOT come out significantly more often for steel grade `A` than for steel grade `B` at a critical level of $\\alpha$ = 5%. The value of $\\chi^2$, which is obtained in this study, is close enough to zero, which indicates a small value of the squares of the difference between the observed and expected values. Therefore, there is no need to introduce additional quality control measures for `A` grade steel."
   ]
  },
  {
   "cell_type": "markdown",
   "metadata": {},
   "source": [
    "С помощъю непараметрического $\\chi^2$-теста установлено, что более 3 бракованных листов на партию НЕ выходит значимо чаще для стали марки `A`, чем для стали марки `B` при критическом уровне $\\alpha$ = 5%. Значение $\\chi^2$, которое получено в данном исследовании достаточно близко к нулю, что говорит о небольшом значении квадратов разности между наблюдаемыми и ожидаемыми значениями. Поэтому, не нужно вводить дополнительные меры контроля качества для стали марки `A`."
   ]
  },
  {
   "cell_type": "markdown",
   "metadata": {},
   "source": [
    "## Hypothesis testing according to point 2. Проверка гипотезы по пункту 2."
   ]
  },
  {
   "cell_type": "markdown",
   "metadata": {},
   "source": [
    "In this task, it is necessary to check that at rolling speeds of more than 4 m/s, more than 3 defective steel sheets per batch come out significantly more often than at lower rolling speeds.\n",
    "\n",
    "To test the null and alternative hypotheses $H_0: p_1 = p_2;H_1: p_1 <> p_2$ we also use the test $\\chi^2$-statistics, BUT without dividing by steel grades."
   ]
  },
  {
   "cell_type": "markdown",
   "metadata": {},
   "source": [
    "В данном задании необходимо обосновать, что при скоростях прокатки более 4 м/с свыше 3 бракованных листов стали на партию выходит значимо чаще, чем при меньших скоростях прокатки.\n",
    "\n",
    "Чтобы проверить нулевую и альтернативные гипотезы также используем тестовую $\\chi^2$-статистику, НО без деления на марки стали."
   ]
  },
  {
   "cell_type": "markdown",
   "metadata": {},
   "source": [
    "### Adding a column with the check `more than 3 sheets of scrap per batch at a speed > 4 m/s`. Добавление столбца с проверкой `больше 3-х листов брака на партию при скорости > 4 м/с`."
   ]
  },
  {
   "cell_type": "code",
   "execution_count": 8,
   "metadata": {},
   "outputs": [
    {
     "data": {
      "text/html": [
       "<div>\n",
       "<style scoped>\n",
       "    .dataframe tbody tr th:only-of-type {\n",
       "        vertical-align: middle;\n",
       "    }\n",
       "\n",
       "    .dataframe tbody tr th {\n",
       "        vertical-align: top;\n",
       "    }\n",
       "\n",
       "    .dataframe thead th {\n",
       "        text-align: right;\n",
       "    }\n",
       "</style>\n",
       "<table border=\"1\" class=\"dataframe\">\n",
       "  <thead>\n",
       "    <tr style=\"text-align: right;\">\n",
       "      <th></th>\n",
       "      <th>Число бракованных листов</th>\n",
       "      <th>Скорость прокатки</th>\n",
       "      <th>Марка стали</th>\n",
       "      <th>Deffect Брак</th>\n",
       "      <th>High rolling speed Высокая скорость</th>\n",
       "    </tr>\n",
       "  </thead>\n",
       "  <tbody>\n",
       "    <tr>\n",
       "      <th>0</th>\n",
       "      <td>3</td>\n",
       "      <td>3.8</td>\n",
       "      <td>A</td>\n",
       "      <td>False</td>\n",
       "      <td>False</td>\n",
       "    </tr>\n",
       "    <tr>\n",
       "      <th>1</th>\n",
       "      <td>3</td>\n",
       "      <td>3.8</td>\n",
       "      <td>B</td>\n",
       "      <td>False</td>\n",
       "      <td>False</td>\n",
       "    </tr>\n",
       "    <tr>\n",
       "      <th>2</th>\n",
       "      <td>3</td>\n",
       "      <td>4.8</td>\n",
       "      <td>B</td>\n",
       "      <td>False</td>\n",
       "      <td>True</td>\n",
       "    </tr>\n",
       "    <tr>\n",
       "      <th>3</th>\n",
       "      <td>4</td>\n",
       "      <td>4.4</td>\n",
       "      <td>B</td>\n",
       "      <td>True</td>\n",
       "      <td>True</td>\n",
       "    </tr>\n",
       "    <tr>\n",
       "      <th>4</th>\n",
       "      <td>6</td>\n",
       "      <td>5.0</td>\n",
       "      <td>B</td>\n",
       "      <td>True</td>\n",
       "      <td>True</td>\n",
       "    </tr>\n",
       "  </tbody>\n",
       "</table>\n",
       "</div>"
      ],
      "text/plain": [
       "   Число бракованных листов  Скорость прокатки Марка стали  Deffect Брак  \\\n",
       "0                         3                3.8           A         False   \n",
       "1                         3                3.8           B         False   \n",
       "2                         3                4.8           B         False   \n",
       "3                         4                4.4           B          True   \n",
       "4                         6                5.0           B          True   \n",
       "\n",
       "   High rolling speed Высокая скорость  \n",
       "0                                False  \n",
       "1                                False  \n",
       "2                                 True  \n",
       "3                                 True  \n",
       "4                                 True  "
      ]
     },
     "metadata": {},
     "output_type": "display_data"
    }
   ],
   "source": [
    "data['High rolling speed Высокая скорость'] = data['Скорость прокатки'] > 4\n",
    "display(data.head())"
   ]
  },
  {
   "cell_type": "markdown",
   "metadata": {},
   "source": [
    "### Cross tabulation. Таблица перекрестной классификации"
   ]
  },
  {
   "cell_type": "code",
   "execution_count": 9,
   "metadata": {},
   "outputs": [
    {
     "data": {
      "text/html": [
       "<div>\n",
       "<style scoped>\n",
       "    .dataframe tbody tr th:only-of-type {\n",
       "        vertical-align: middle;\n",
       "    }\n",
       "\n",
       "    .dataframe tbody tr th {\n",
       "        vertical-align: top;\n",
       "    }\n",
       "\n",
       "    .dataframe thead th {\n",
       "        text-align: right;\n",
       "    }\n",
       "</style>\n",
       "<table border=\"1\" class=\"dataframe\">\n",
       "  <thead>\n",
       "    <tr style=\"text-align: right;\">\n",
       "      <th>High rolling speed Высокая скорость</th>\n",
       "      <th>False</th>\n",
       "      <th>True</th>\n",
       "      <th>Total</th>\n",
       "    </tr>\n",
       "    <tr>\n",
       "      <th>Deffect Брак</th>\n",
       "      <th></th>\n",
       "      <th></th>\n",
       "      <th></th>\n",
       "    </tr>\n",
       "  </thead>\n",
       "  <tbody>\n",
       "    <tr>\n",
       "      <th>False</th>\n",
       "      <td>35</td>\n",
       "      <td>105</td>\n",
       "      <td>140</td>\n",
       "    </tr>\n",
       "    <tr>\n",
       "      <th>True</th>\n",
       "      <td>23</td>\n",
       "      <td>74</td>\n",
       "      <td>97</td>\n",
       "    </tr>\n",
       "    <tr>\n",
       "      <th>Total</th>\n",
       "      <td>58</td>\n",
       "      <td>179</td>\n",
       "      <td>237</td>\n",
       "    </tr>\n",
       "  </tbody>\n",
       "</table>\n",
       "</div>"
      ],
      "text/plain": [
       "High rolling speed Высокая скорость  False  True  Total\n",
       "Deffect Брак                                           \n",
       "False                                   35   105    140\n",
       "True                                    23    74     97\n",
       "Total                                   58   179    237"
      ]
     },
     "metadata": {},
     "output_type": "display_data"
    },
    {
     "name": "stdout",
     "output_type": "stream",
     "text": [
      "<class 'pandas.core.frame.DataFrame'>\n",
      "Index: 3 entries, False to Total\n",
      "Data columns (total 3 columns):\n",
      " #   Column  Non-Null Count  Dtype\n",
      "---  ------  --------------  -----\n",
      " 0   False   3 non-null      int64\n",
      " 1   True    3 non-null      int64\n",
      " 2   Total   3 non-null      int64\n",
      "dtypes: int64(3)\n",
      "memory usage: 96.0+ bytes\n"
     ]
    },
    {
     "data": {
      "image/png": "[encoded data removed]",
      "text/plain": [
       "<Figure size 432x288 with 1 Axes>"
      ]
     },
     "metadata": {
      "needs_background": "light"
     },
     "output_type": "display_data"
    }
   ],
   "source": [
    "df_ct_2 = pd.crosstab(data['Deffect Брак'], data['High rolling speed Высокая скорость'], margins = True, margins_name = 'Total')\n",
    "display(df_ct_2)\n",
    "df_ct_2.info()\n",
    "df_ct_2.drop('Total', axis = 0).T.plot(kind = 'bar', stacked = True)\n",
    "plt.title('Diagram of deffect/norm ratio. Диаграмма соотношения брака', fontsize = 15)\n",
    "plt.legend()\n",
    "plt.show()"
   ]
  },
  {
   "cell_type": "code",
   "execution_count": 10,
   "metadata": {
    "scrolled": true
   },
   "outputs": [
    {
     "name": "stdout",
     "output_type": "stream",
     "text": [
      "chi2:  0.05148060580663982\n",
      "p_value:  0.820506649959321\n",
      "dof:  1\n",
      "\n",
      "alpha:  0.05\n",
      "chi2_critical:  3.841458820694124\n",
      "\n",
      "The hypothesis H0 is not rejected. Гипотеза Н0 не отклоняется!\n"
     ]
    }
   ],
   "source": [
    "alpha_2 = 0.05\n",
    "hyp_testing(df_ct_2, alpha_2)"
   ]
  },
  {
   "cell_type": "markdown",
   "metadata": {},
   "source": [
    "Using a nonparametric $\\chi^2$ test, it was found that more than 3 defective sheets per batch do NOT come out significantly more often at a rolling speed above 4 m/s, at a critical level of $\\alpha$ = 5%. The value of $\\chi^2$, which is obtained in this study, is very close to zero, which indicates a small value of the squares of the difference between the observed and expected values. Therefore, there is no need to reduce the rolling speed."
   ]
  },
  {
   "cell_type": "markdown",
   "metadata": {},
   "source": [
    "С помощъю непараметрического $\\chi^2$-теста установлено, что более 3 бракованных листов на партию НЕ выходит значимо чаще при скорости прокатки выше 4 м/с, при критическом уровне $\\alpha$ = 5%. Значение $\\chi^2$, которое получено в данном исследовании очень близко к нулю, что говорит о небольшом значении квадратов разности между наблюдаемыми и ожидаемыми значениями. Поэтому, не нужно снижать скорость прокатки."
   ]
  },
  {
   "cell_type": "markdown",
   "metadata": {
    "scrolled": true
   },
   "source": [
    "## Main conclusion. Общий вывод"
   ]
  },
  {
   "cell_type": "markdown",
   "metadata": {},
   "source": [
    "In this task, using a nonparametric $\\chi^2$ test, it was found that in both cases hypotheses about a significant increase in the number of batches with scrap > 3 sheets are not confirmed. In this regard, there is no need to introduce additional quality control measures for `A` grade steel and there is no need to reduce the rolling speed."
   ]
  },
  {
   "cell_type": "markdown",
   "metadata": {},
   "source": [
    "В данном задании с помощъю непараметрического $\\chi^2$-теста установлено, что в обоих случаях не подтверждаются гипотезы об значимом увеличении количества партий с браком > 3 листов. Всвязи с этим нет необходимости вводить дополнительные меры контроля качества для стали марки `A` и нет необходимости снижать скорость прокатки."
   ]
  }
 ],
 "metadata": {
  "kernelspec": {
   "display_name": "Python 3",
   "language": "python",
   "name": "python3"
  },
  "language_info": {
   "codemirror_mode": {
    "name": "ipython",
    "version": 3
   },
   "file_extension": ".py",
   "mimetype": "text/x-python",
   "name": "python",
   "nbconvert_exporter": "python",
   "pygments_lexer": "ipython3",
   "version": "3.8.5"
  },
  "toc": {
   "base_numbering": 1,
   "nav_menu": {},
   "number_sections": true,
   "sideBar": true,
   "skip_h1_title": false,
   "title_cell": "Table of Contents",
   "title_sidebar": "Contents",
   "toc_cell": false,
   "toc_position": {},
   "toc_section_display": true,
   "toc_window_display": false
  },
  "varInspector": {
   "cols": {
    "lenName": 16,
    "lenType": 16,
    "lenVar": 40
   },
   "kernels_config": {
    "python": {
     "delete_cmd_postfix": "",
     "delete_cmd_prefix": "del ",
     "library": "var_list.py",
     "varRefreshCmd": "print(var_dic_list())"
    },
    "r": {
     "delete_cmd_postfix": ") ",
     "delete_cmd_prefix": "rm(",
     "library": "var_list.r",
     "varRefreshCmd": "cat(var_dic_list()) "
    }
   },
   "types_to_exclude": [
    "module",
    "function",
    "builtin_function_or_method",
    "instance",
    "_Feature"
   ],
   "window_display": false
  }
 },
 "nbformat": 4,
 "nbformat_minor": 4
}
